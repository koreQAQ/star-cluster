{
 "cells": [
  {
   "cell_type": "code",
   "execution_count": 1,
   "id": "initial_id",
   "metadata": {
    "collapsed": true,
    "ExecuteTime": {
     "end_time": "2023-12-17T13:00:47.152014Z",
     "start_time": "2023-12-17T13:00:42.750636Z"
    }
   },
   "outputs": [],
   "source": [
    "import pandas as pd\n",
    "import os\n",
    "from src import config\n",
    "\n",
    "# 输入所有数据\n",
    "data_dict = {}\n",
    "original_dir = config.INPUT_PATH + \"/original\"\n",
    "for file_name in os.listdir(original_dir):\n",
    "    if file_name.endswith('csv'):\n",
    "        file_path = os.path.join(original_dir, file_name)\n",
    "        data_dict[os.path.splitext(file_name)[0]] = pd.read_csv(file_path)"
   ]
  },
  {
   "cell_type": "code",
   "execution_count": 2,
   "outputs": [],
   "source": [
    "features = ['x', 'y', 'z', 'vx', 'vy', 'vz', 'm']"
   ],
   "metadata": {
    "collapsed": false,
    "ExecuteTime": {
     "end_time": "2023-12-17T13:01:24.839270Z",
     "start_time": "2023-12-17T13:01:24.812043Z"
    }
   },
   "id": "75c921b1fe08629b"
  },
  {
   "cell_type": "code",
   "execution_count": 14,
   "outputs": [],
   "source": [
    "# 因为是聚类分析，所以每张的列表无法确认是否均衡\n",
    "# 因为有一些星星会发生逃逸，那么是否可以找出每个阶段的逃逸恒星呢？\n",
    "# 1. 验证是否存在逃逸\n",
    "time_list = ['c_' + str(i).zfill(4) for i in range(0, 1900, 100)]\n",
    "escape_star = [len(data_dict[time_list[i]]) - len(data_dict[time_list[i + 1]]) for i in range(len(time_list) - 1)]"
   ],
   "metadata": {
    "collapsed": false,
    "ExecuteTime": {
     "end_time": "2023-12-17T13:16:36.960905Z",
     "start_time": "2023-12-17T13:16:36.934507Z"
    }
   },
   "id": "d30dfb5d193ba899"
  },
  {
   "cell_type": "code",
   "execution_count": 15,
   "outputs": [
    {
     "data": {
      "text/plain": "[3, 2, 2, 1, 2, 1, 2, 2, 1, 1, 0, 2, 0, 3, 1, 1, 3, 3]"
     },
     "execution_count": 15,
     "metadata": {},
     "output_type": "execute_result"
    }
   ],
   "source": [
    "escape_star"
   ],
   "metadata": {
    "collapsed": false,
    "ExecuteTime": {
     "end_time": "2023-12-17T13:16:39.353413Z",
     "start_time": "2023-12-17T13:16:39.330270Z"
    }
   },
   "id": "1fc636edbbae32de"
  },
  {
   "cell_type": "code",
   "execution_count": 19,
   "outputs": [
    {
     "data": {
      "text/plain": "            x_x       y_x       z_x      vx_x      vy_x      vz_x       m_x  \\\n0      0.485939 -0.524359 -0.531982  0.461539 -0.033776 -0.322765  0.000016   \n1     -0.065961  0.080844 -0.276031 -0.575780  1.107815 -0.293408  0.000016   \n2     -0.034809  0.076795 -0.390880 -0.553991 -0.173861  0.059251  0.000016   \n3      1.502104  1.442983  1.449747 -0.090266  0.326612 -0.310594  0.000016   \n4     -0.009554  0.538341 -0.267264  0.011855 -0.011874 -0.405565  0.000016   \n...         ...       ...       ...       ...       ...       ...       ...   \n63992 -0.515370  0.834457  1.609291  0.317309  0.082150 -0.514357  0.000016   \n63993  0.725611 -0.579058  0.973140  0.129194 -0.207819  0.259824  0.000016   \n63994 -0.175569 -0.397390  0.163967 -0.137939  0.234582 -0.060062  0.000016   \n63995  0.239999  0.625631  0.715540 -0.148245  0.351681  0.784334  0.000016   \n63996 -0.158667 -1.150932  0.237001 -0.396418 -0.076439 -0.445377  0.000016   \n\n          id       x_y       y_y       z_y      vx_y      vy_y      vz_y  \\\n0          1 -0.480906 -0.347315  0.539956  0.432554 -0.067270 -0.590551   \n1          2  0.345872  0.286873  0.955404  0.284793 -0.326669  0.141546   \n2          3  0.119357 -0.309563  0.059348  0.501418  0.288781  0.308121   \n3          4 -0.498487 -1.699947  0.132564  0.262516 -0.324764  0.562522   \n4          5  0.086025  0.132751 -0.243861 -0.242317  0.003074 -0.262080   \n...      ...       ...       ...       ...       ...       ...       ...   \n63992  63996  1.058976  1.956077 -0.386337 -0.118746 -0.553942 -0.208733   \n63993  63997  0.753311  0.004259  0.111236 -0.794958 -0.153329  0.131538   \n63994  63998  0.064444 -0.159256 -0.620617  0.244356 -0.082614 -0.113567   \n63995  63999  0.180758  1.093747  0.601112 -0.379059 -0.388060  0.007006   \n63996  64000 -0.704448 -1.073381 -0.120052 -0.253558  0.379204 -0.377854   \n\n            m_y _merge  \n0      0.000016   both  \n1      0.000016   both  \n2      0.000016   both  \n3      0.000016   both  \n4      0.000016   both  \n...         ...    ...  \n63992  0.000016   both  \n63993  0.000016   both  \n63994  0.000016   both  \n63995  0.000016   both  \n63996  0.000016   both  \n\n[63997 rows x 16 columns]",
      "text/html": "<div>\n<style scoped>\n    .dataframe tbody tr th:only-of-type {\n        vertical-align: middle;\n    }\n\n    .dataframe tbody tr th {\n        vertical-align: top;\n    }\n\n    .dataframe thead th {\n        text-align: right;\n    }\n</style>\n<table border=\"1\" class=\"dataframe\">\n  <thead>\n    <tr style=\"text-align: right;\">\n      <th></th>\n      <th>x_x</th>\n      <th>y_x</th>\n      <th>z_x</th>\n      <th>vx_x</th>\n      <th>vy_x</th>\n      <th>vz_x</th>\n      <th>m_x</th>\n      <th>id</th>\n      <th>x_y</th>\n      <th>y_y</th>\n      <th>z_y</th>\n      <th>vx_y</th>\n      <th>vy_y</th>\n      <th>vz_y</th>\n      <th>m_y</th>\n      <th>_merge</th>\n    </tr>\n  </thead>\n  <tbody>\n    <tr>\n      <th>0</th>\n      <td>0.485939</td>\n      <td>-0.524359</td>\n      <td>-0.531982</td>\n      <td>0.461539</td>\n      <td>-0.033776</td>\n      <td>-0.322765</td>\n      <td>0.000016</td>\n      <td>1</td>\n      <td>-0.480906</td>\n      <td>-0.347315</td>\n      <td>0.539956</td>\n      <td>0.432554</td>\n      <td>-0.067270</td>\n      <td>-0.590551</td>\n      <td>0.000016</td>\n      <td>both</td>\n    </tr>\n    <tr>\n      <th>1</th>\n      <td>-0.065961</td>\n      <td>0.080844</td>\n      <td>-0.276031</td>\n      <td>-0.575780</td>\n      <td>1.107815</td>\n      <td>-0.293408</td>\n      <td>0.000016</td>\n      <td>2</td>\n      <td>0.345872</td>\n      <td>0.286873</td>\n      <td>0.955404</td>\n      <td>0.284793</td>\n      <td>-0.326669</td>\n      <td>0.141546</td>\n      <td>0.000016</td>\n      <td>both</td>\n    </tr>\n    <tr>\n      <th>2</th>\n      <td>-0.034809</td>\n      <td>0.076795</td>\n      <td>-0.390880</td>\n      <td>-0.553991</td>\n      <td>-0.173861</td>\n      <td>0.059251</td>\n      <td>0.000016</td>\n      <td>3</td>\n      <td>0.119357</td>\n      <td>-0.309563</td>\n      <td>0.059348</td>\n      <td>0.501418</td>\n      <td>0.288781</td>\n      <td>0.308121</td>\n      <td>0.000016</td>\n      <td>both</td>\n    </tr>\n    <tr>\n      <th>3</th>\n      <td>1.502104</td>\n      <td>1.442983</td>\n      <td>1.449747</td>\n      <td>-0.090266</td>\n      <td>0.326612</td>\n      <td>-0.310594</td>\n      <td>0.000016</td>\n      <td>4</td>\n      <td>-0.498487</td>\n      <td>-1.699947</td>\n      <td>0.132564</td>\n      <td>0.262516</td>\n      <td>-0.324764</td>\n      <td>0.562522</td>\n      <td>0.000016</td>\n      <td>both</td>\n    </tr>\n    <tr>\n      <th>4</th>\n      <td>-0.009554</td>\n      <td>0.538341</td>\n      <td>-0.267264</td>\n      <td>0.011855</td>\n      <td>-0.011874</td>\n      <td>-0.405565</td>\n      <td>0.000016</td>\n      <td>5</td>\n      <td>0.086025</td>\n      <td>0.132751</td>\n      <td>-0.243861</td>\n      <td>-0.242317</td>\n      <td>0.003074</td>\n      <td>-0.262080</td>\n      <td>0.000016</td>\n      <td>both</td>\n    </tr>\n    <tr>\n      <th>...</th>\n      <td>...</td>\n      <td>...</td>\n      <td>...</td>\n      <td>...</td>\n      <td>...</td>\n      <td>...</td>\n      <td>...</td>\n      <td>...</td>\n      <td>...</td>\n      <td>...</td>\n      <td>...</td>\n      <td>...</td>\n      <td>...</td>\n      <td>...</td>\n      <td>...</td>\n      <td>...</td>\n    </tr>\n    <tr>\n      <th>63992</th>\n      <td>-0.515370</td>\n      <td>0.834457</td>\n      <td>1.609291</td>\n      <td>0.317309</td>\n      <td>0.082150</td>\n      <td>-0.514357</td>\n      <td>0.000016</td>\n      <td>63996</td>\n      <td>1.058976</td>\n      <td>1.956077</td>\n      <td>-0.386337</td>\n      <td>-0.118746</td>\n      <td>-0.553942</td>\n      <td>-0.208733</td>\n      <td>0.000016</td>\n      <td>both</td>\n    </tr>\n    <tr>\n      <th>63993</th>\n      <td>0.725611</td>\n      <td>-0.579058</td>\n      <td>0.973140</td>\n      <td>0.129194</td>\n      <td>-0.207819</td>\n      <td>0.259824</td>\n      <td>0.000016</td>\n      <td>63997</td>\n      <td>0.753311</td>\n      <td>0.004259</td>\n      <td>0.111236</td>\n      <td>-0.794958</td>\n      <td>-0.153329</td>\n      <td>0.131538</td>\n      <td>0.000016</td>\n      <td>both</td>\n    </tr>\n    <tr>\n      <th>63994</th>\n      <td>-0.175569</td>\n      <td>-0.397390</td>\n      <td>0.163967</td>\n      <td>-0.137939</td>\n      <td>0.234582</td>\n      <td>-0.060062</td>\n      <td>0.000016</td>\n      <td>63998</td>\n      <td>0.064444</td>\n      <td>-0.159256</td>\n      <td>-0.620617</td>\n      <td>0.244356</td>\n      <td>-0.082614</td>\n      <td>-0.113567</td>\n      <td>0.000016</td>\n      <td>both</td>\n    </tr>\n    <tr>\n      <th>63995</th>\n      <td>0.239999</td>\n      <td>0.625631</td>\n      <td>0.715540</td>\n      <td>-0.148245</td>\n      <td>0.351681</td>\n      <td>0.784334</td>\n      <td>0.000016</td>\n      <td>63999</td>\n      <td>0.180758</td>\n      <td>1.093747</td>\n      <td>0.601112</td>\n      <td>-0.379059</td>\n      <td>-0.388060</td>\n      <td>0.007006</td>\n      <td>0.000016</td>\n      <td>both</td>\n    </tr>\n    <tr>\n      <th>63996</th>\n      <td>-0.158667</td>\n      <td>-1.150932</td>\n      <td>0.237001</td>\n      <td>-0.396418</td>\n      <td>-0.076439</td>\n      <td>-0.445377</td>\n      <td>0.000016</td>\n      <td>64000</td>\n      <td>-0.704448</td>\n      <td>-1.073381</td>\n      <td>-0.120052</td>\n      <td>-0.253558</td>\n      <td>0.379204</td>\n      <td>-0.377854</td>\n      <td>0.000016</td>\n      <td>both</td>\n    </tr>\n  </tbody>\n</table>\n<p>63997 rows × 16 columns</p>\n</div>"
     },
     "execution_count": 19,
     "metadata": {},
     "output_type": "execute_result"
    }
   ],
   "source": [
    "pd.merge(data_dict['c_0000'], data_dict['c_0100'], on='id')"
   ],
   "metadata": {
    "collapsed": false,
    "ExecuteTime": {
     "end_time": "2023-12-17T13:46:05.490184Z",
     "start_time": "2023-12-17T13:46:05.217712Z"
    }
   },
   "id": "1a2ed5d03ed9ff51"
  },
  {
   "cell_type": "code",
   "execution_count": 22,
   "outputs": [
    {
     "data": {
      "text/plain": "       x_original  y_original  z_original  vx_original  vy_original  \\\n0        0.485939   -0.524359   -0.531982     0.461539    -0.033776   \n1       -0.065961    0.080844   -0.276031    -0.575780     1.107815   \n2       -0.034809    0.076795   -0.390880    -0.553991    -0.173861   \n3        1.502104    1.442983    1.449747    -0.090266     0.326612   \n4       -0.009554    0.538341   -0.267264     0.011855    -0.011874   \n...           ...         ...         ...          ...          ...   \n63992   -0.515370    0.834457    1.609291     0.317309     0.082150   \n63993    0.725611   -0.579058    0.973140     0.129194    -0.207819   \n63994   -0.175569   -0.397390    0.163967    -0.137939     0.234582   \n63995    0.239999    0.625631    0.715540    -0.148245     0.351681   \n63996   -0.158667   -1.150932    0.237001    -0.396418    -0.076439   \n\n       vz_original  m_original     id   x_final   y_final   z_final  vx_final  \\\n0        -0.322765    0.000016      1 -0.480906 -0.347315  0.539956  0.432554   \n1        -0.293408    0.000016      2  0.345872  0.286873  0.955404  0.284793   \n2         0.059251    0.000016      3  0.119357 -0.309563  0.059348  0.501418   \n3        -0.310594    0.000016      4 -0.498487 -1.699947  0.132564  0.262516   \n4        -0.405565    0.000016      5  0.086025  0.132751 -0.243861 -0.242317   \n...            ...         ...    ...       ...       ...       ...       ...   \n63992    -0.514357    0.000016  63996  1.058976  1.956077 -0.386337 -0.118746   \n63993     0.259824    0.000016  63997  0.753311  0.004259  0.111236 -0.794958   \n63994    -0.060062    0.000016  63998  0.064444 -0.159256 -0.620617  0.244356   \n63995     0.784334    0.000016  63999  0.180758  1.093747  0.601112 -0.379059   \n63996    -0.445377    0.000016  64000 -0.704448 -1.073381 -0.120052 -0.253558   \n\n       vy_final  vz_final   m_final  \n0     -0.067270 -0.590551  0.000016  \n1     -0.326669  0.141546  0.000016  \n2      0.288781  0.308121  0.000016  \n3     -0.324764  0.562522  0.000016  \n4      0.003074 -0.262080  0.000016  \n...         ...       ...       ...  \n63992 -0.553942 -0.208733  0.000016  \n63993 -0.153329  0.131538  0.000016  \n63994 -0.082614 -0.113567  0.000016  \n63995 -0.388060  0.007006  0.000016  \n63996  0.379204 -0.377854  0.000016  \n\n[63997 rows x 15 columns]",
      "text/html": "<div>\n<style scoped>\n    .dataframe tbody tr th:only-of-type {\n        vertical-align: middle;\n    }\n\n    .dataframe tbody tr th {\n        vertical-align: top;\n    }\n\n    .dataframe thead th {\n        text-align: right;\n    }\n</style>\n<table border=\"1\" class=\"dataframe\">\n  <thead>\n    <tr style=\"text-align: right;\">\n      <th></th>\n      <th>x_original</th>\n      <th>y_original</th>\n      <th>z_original</th>\n      <th>vx_original</th>\n      <th>vy_original</th>\n      <th>vz_original</th>\n      <th>m_original</th>\n      <th>id</th>\n      <th>x_final</th>\n      <th>y_final</th>\n      <th>z_final</th>\n      <th>vx_final</th>\n      <th>vy_final</th>\n      <th>vz_final</th>\n      <th>m_final</th>\n    </tr>\n  </thead>\n  <tbody>\n    <tr>\n      <th>0</th>\n      <td>0.485939</td>\n      <td>-0.524359</td>\n      <td>-0.531982</td>\n      <td>0.461539</td>\n      <td>-0.033776</td>\n      <td>-0.322765</td>\n      <td>0.000016</td>\n      <td>1</td>\n      <td>-0.480906</td>\n      <td>-0.347315</td>\n      <td>0.539956</td>\n      <td>0.432554</td>\n      <td>-0.067270</td>\n      <td>-0.590551</td>\n      <td>0.000016</td>\n    </tr>\n    <tr>\n      <th>1</th>\n      <td>-0.065961</td>\n      <td>0.080844</td>\n      <td>-0.276031</td>\n      <td>-0.575780</td>\n      <td>1.107815</td>\n      <td>-0.293408</td>\n      <td>0.000016</td>\n      <td>2</td>\n      <td>0.345872</td>\n      <td>0.286873</td>\n      <td>0.955404</td>\n      <td>0.284793</td>\n      <td>-0.326669</td>\n      <td>0.141546</td>\n      <td>0.000016</td>\n    </tr>\n    <tr>\n      <th>2</th>\n      <td>-0.034809</td>\n      <td>0.076795</td>\n      <td>-0.390880</td>\n      <td>-0.553991</td>\n      <td>-0.173861</td>\n      <td>0.059251</td>\n      <td>0.000016</td>\n      <td>3</td>\n      <td>0.119357</td>\n      <td>-0.309563</td>\n      <td>0.059348</td>\n      <td>0.501418</td>\n      <td>0.288781</td>\n      <td>0.308121</td>\n      <td>0.000016</td>\n    </tr>\n    <tr>\n      <th>3</th>\n      <td>1.502104</td>\n      <td>1.442983</td>\n      <td>1.449747</td>\n      <td>-0.090266</td>\n      <td>0.326612</td>\n      <td>-0.310594</td>\n      <td>0.000016</td>\n      <td>4</td>\n      <td>-0.498487</td>\n      <td>-1.699947</td>\n      <td>0.132564</td>\n      <td>0.262516</td>\n      <td>-0.324764</td>\n      <td>0.562522</td>\n      <td>0.000016</td>\n    </tr>\n    <tr>\n      <th>4</th>\n      <td>-0.009554</td>\n      <td>0.538341</td>\n      <td>-0.267264</td>\n      <td>0.011855</td>\n      <td>-0.011874</td>\n      <td>-0.405565</td>\n      <td>0.000016</td>\n      <td>5</td>\n      <td>0.086025</td>\n      <td>0.132751</td>\n      <td>-0.243861</td>\n      <td>-0.242317</td>\n      <td>0.003074</td>\n      <td>-0.262080</td>\n      <td>0.000016</td>\n    </tr>\n    <tr>\n      <th>...</th>\n      <td>...</td>\n      <td>...</td>\n      <td>...</td>\n      <td>...</td>\n      <td>...</td>\n      <td>...</td>\n      <td>...</td>\n      <td>...</td>\n      <td>...</td>\n      <td>...</td>\n      <td>...</td>\n      <td>...</td>\n      <td>...</td>\n      <td>...</td>\n      <td>...</td>\n    </tr>\n    <tr>\n      <th>63992</th>\n      <td>-0.515370</td>\n      <td>0.834457</td>\n      <td>1.609291</td>\n      <td>0.317309</td>\n      <td>0.082150</td>\n      <td>-0.514357</td>\n      <td>0.000016</td>\n      <td>63996</td>\n      <td>1.058976</td>\n      <td>1.956077</td>\n      <td>-0.386337</td>\n      <td>-0.118746</td>\n      <td>-0.553942</td>\n      <td>-0.208733</td>\n      <td>0.000016</td>\n    </tr>\n    <tr>\n      <th>63993</th>\n      <td>0.725611</td>\n      <td>-0.579058</td>\n      <td>0.973140</td>\n      <td>0.129194</td>\n      <td>-0.207819</td>\n      <td>0.259824</td>\n      <td>0.000016</td>\n      <td>63997</td>\n      <td>0.753311</td>\n      <td>0.004259</td>\n      <td>0.111236</td>\n      <td>-0.794958</td>\n      <td>-0.153329</td>\n      <td>0.131538</td>\n      <td>0.000016</td>\n    </tr>\n    <tr>\n      <th>63994</th>\n      <td>-0.175569</td>\n      <td>-0.397390</td>\n      <td>0.163967</td>\n      <td>-0.137939</td>\n      <td>0.234582</td>\n      <td>-0.060062</td>\n      <td>0.000016</td>\n      <td>63998</td>\n      <td>0.064444</td>\n      <td>-0.159256</td>\n      <td>-0.620617</td>\n      <td>0.244356</td>\n      <td>-0.082614</td>\n      <td>-0.113567</td>\n      <td>0.000016</td>\n    </tr>\n    <tr>\n      <th>63995</th>\n      <td>0.239999</td>\n      <td>0.625631</td>\n      <td>0.715540</td>\n      <td>-0.148245</td>\n      <td>0.351681</td>\n      <td>0.784334</td>\n      <td>0.000016</td>\n      <td>63999</td>\n      <td>0.180758</td>\n      <td>1.093747</td>\n      <td>0.601112</td>\n      <td>-0.379059</td>\n      <td>-0.388060</td>\n      <td>0.007006</td>\n      <td>0.000016</td>\n    </tr>\n    <tr>\n      <th>63996</th>\n      <td>-0.158667</td>\n      <td>-1.150932</td>\n      <td>0.237001</td>\n      <td>-0.396418</td>\n      <td>-0.076439</td>\n      <td>-0.445377</td>\n      <td>0.000016</td>\n      <td>64000</td>\n      <td>-0.704448</td>\n      <td>-1.073381</td>\n      <td>-0.120052</td>\n      <td>-0.253558</td>\n      <td>0.379204</td>\n      <td>-0.377854</td>\n      <td>0.000016</td>\n    </tr>\n  </tbody>\n</table>\n<p>63997 rows × 15 columns</p>\n</div>"
     },
     "execution_count": 22,
     "metadata": {},
     "output_type": "execute_result"
    }
   ],
   "source": [
    "# 构建Q1 的数据集\n",
    "# 构建组合\n",
    "\n",
    "pd.merge(data_dict['c_0000'], data_dict['c_0100'], on='id', suffixes=('_original', '_final'))"
   ],
   "metadata": {
    "collapsed": false,
    "ExecuteTime": {
     "end_time": "2023-12-17T14:02:31.627530Z",
     "start_time": "2023-12-17T14:02:31.469823Z"
    }
   },
   "id": "9265cb0c39e566cf"
  },
  {
   "cell_type": "code",
   "execution_count": 36,
   "outputs": [],
   "source": [
    "for pair_time in [('c_0000', 'c_0100')]:\n",
    "    original = pair_time[0]\n",
    "    final = pair_time[1]\n",
    "    df = pd.merge(data_dict[original], data_dict[final], on='id', suffixes=('_original', '_final'))\n",
    "    df['duration'] = int(final[-4:]) - int(original[-4:])"
   ],
   "metadata": {
    "collapsed": false,
    "ExecuteTime": {
     "end_time": "2023-12-17T14:52:02.763463Z",
     "start_time": "2023-12-17T14:52:02.603016Z"
    }
   },
   "id": "dfebb7d6b360972e"
  },
  {
   "cell_type": "markdown",
   "source": [
    "这里有个问题，同一时间下时间为常量，所以需要将数据合并在同一个df中"
   ],
   "metadata": {
    "collapsed": false
   },
   "id": "9c07c2112823d067"
  },
  {
   "cell_type": "code",
   "execution_count": 37,
   "outputs": [],
   "source": [
    "question_1_data = []\n",
    "for pair_time in [('c_0000', 'c_0100'), ('c_0100', 'c_0200')]:\n",
    "    original = pair_time[0]\n",
    "    final = pair_time[1]\n",
    "    df = pd.merge(data_dict[original], data_dict[final], on='id', suffixes=('_original', '_final'))\n",
    "    df['duration'] = int(final[-4:]) - int(original[-4:])\n",
    "    question_1_data.append(df)\n",
    "q1_df = pd.concat(question_1_data, axis=0, ignore_index=True)\n",
    "assert len(data_dict['c_0100']) + len(data_dict['c_0200']) == len(q1_df)"
   ],
   "metadata": {
    "collapsed": false,
    "ExecuteTime": {
     "end_time": "2023-12-17T14:52:05.216028Z",
     "start_time": "2023-12-17T14:52:04.957771Z"
    }
   },
   "id": "1b777e45e2b83cd4"
  },
  {
   "cell_type": "markdown",
   "source": [
    "以上代码可以构建 Question 1 所需要的数据集"
   ],
   "metadata": {
    "collapsed": false
   },
   "id": "29801cecacedbcd3"
  },
  {
   "cell_type": "code",
   "execution_count": 40,
   "outputs": [
    {
     "data": {
      "text/plain": "190"
     },
     "execution_count": 40,
     "metadata": {},
     "output_type": "execute_result"
    }
   ],
   "source": [
    "from itertools import combinations\n",
    "\n",
    "t = list(combinations(range(0,20),2)) \n",
    "len(t)"
   ],
   "metadata": {
    "collapsed": false,
    "ExecuteTime": {
     "end_time": "2023-12-17T14:58:11.863976Z",
     "start_time": "2023-12-17T14:58:11.812034Z"
    }
   },
   "id": "1f9480ad33457360"
  },
  {
   "cell_type": "code",
   "execution_count": 41,
   "outputs": [
    {
     "data": {
      "text/plain": "1140"
     },
     "execution_count": 41,
     "metadata": {},
     "output_type": "execute_result"
    }
   ],
   "source": [
    "190 * 6"
   ],
   "metadata": {
    "collapsed": false,
    "ExecuteTime": {
     "end_time": "2023-12-17T14:58:19.520981Z",
     "start_time": "2023-12-17T14:58:19.506333Z"
    }
   },
   "id": "4c836e774e591c73"
  },
  {
   "cell_type": "code",
   "execution_count": null,
   "outputs": [],
   "source": [],
   "metadata": {
    "collapsed": false
   },
   "id": "7294661fb93f6570"
  }
 ],
 "metadata": {
  "kernelspec": {
   "display_name": "Python 3",
   "language": "python",
   "name": "python3"
  },
  "language_info": {
   "codemirror_mode": {
    "name": "ipython",
    "version": 2
   },
   "file_extension": ".py",
   "mimetype": "text/x-python",
   "name": "python",
   "nbconvert_exporter": "python",
   "pygments_lexer": "ipython2",
   "version": "2.7.6"
  }
 },
 "nbformat": 4,
 "nbformat_minor": 5
}
