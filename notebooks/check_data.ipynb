{
 "cells": [
  {
   "cell_type": "code",
   "execution_count": 2,
   "id": "initial_id",
   "metadata": {
    "collapsed": true,
    "ExecuteTime": {
     "end_time": "2023-12-17T12:19:06.502425Z",
     "start_time": "2023-12-17T12:19:06.480380Z"
    }
   },
   "outputs": [],
   "source": [
    "import pandas as pd\n",
    "import os "
   ]
  },
  {
   "cell_type": "code",
   "execution_count": 4,
   "outputs": [],
   "source": [
    "from src import config\n",
    "\n",
    "# 检查一下整体数据是否有缺失的情况\n",
    "data_dict = {}\n",
    "original_dir = config.INPUT_PATH + \"/original\"\n",
    "for file_name in os.listdir(original_dir):\n",
    "    if file_name.endswith('csv'):\n",
    "        file_path = os.path.join(original_dir, file_name)\n",
    "        data_dict[os.path.splitext(file_name)[0]] = pd.read_csv(file_path)"
   ],
   "metadata": {
    "collapsed": false,
    "ExecuteTime": {
     "end_time": "2023-12-17T12:24:31.332147Z",
     "start_time": "2023-12-17T12:24:28.557087Z"
    }
   },
   "id": "586655575ff9e26e"
  },
  {
   "cell_type": "code",
   "execution_count": 36,
   "outputs": [],
   "source": [
    "# 检查空值\n",
    "rows = []\n",
    "columns = ['x','y','z','vx','vy','vz','id','m','file']\n",
    "for key,value in data_dict.items():\n",
    "    row = data_dict[key].isna().sum().to_list()\n",
    "    row.append(key)\n",
    "    rows.append(row)"
   ],
   "metadata": {
    "collapsed": false,
    "ExecuteTime": {
     "end_time": "2023-12-17T12:41:43.956336Z",
     "start_time": "2023-12-17T12:41:43.797726Z"
    }
   },
   "id": "9a5540fcd83d722c"
  },
  {
   "cell_type": "code",
   "execution_count": 37,
   "outputs": [],
   "source": [
    "file_na_info = pd.DataFrame(rows,columns=columns)"
   ],
   "metadata": {
    "collapsed": false,
    "ExecuteTime": {
     "end_time": "2023-12-17T12:41:44.782227Z",
     "start_time": "2023-12-17T12:41:44.740040Z"
    }
   },
   "id": "4649c403fd93f8b4"
  },
  {
   "cell_type": "code",
   "execution_count": 42,
   "outputs": [
    {
     "data": {
      "text/plain": "x  y  z  vx  vy  vz  id  m\n0  0  0  0   0   0   0   0    19\nName: count, dtype: int64"
     },
     "execution_count": 42,
     "metadata": {},
     "output_type": "execute_result"
    }
   ],
   "source": [
    "features = ['x','y','z','vx','vy','vz','id','m']\n",
    "file_na_info[features].value_counts()"
   ],
   "metadata": {
    "collapsed": false,
    "ExecuteTime": {
     "end_time": "2023-12-17T12:43:01.425793Z",
     "start_time": "2023-12-17T12:43:01.405453Z"
    }
   },
   "id": "b563374e7ee03bb8"
  }
 ],
 "metadata": {
  "kernelspec": {
   "display_name": "Python 3",
   "language": "python",
   "name": "python3"
  },
  "language_info": {
   "codemirror_mode": {
    "name": "ipython",
    "version": 2
   },
   "file_extension": ".py",
   "mimetype": "text/x-python",
   "name": "python",
   "nbconvert_exporter": "python",
   "pygments_lexer": "ipython2",
   "version": "2.7.6"
  }
 },
 "nbformat": 4,
 "nbformat_minor": 5
}
